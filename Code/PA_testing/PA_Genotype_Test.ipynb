{
 "cells": [
  {
   "cell_type": "markdown",
   "metadata": {},
   "source": [
    "# Testing for genotype without considering disease time"
   ]
  },
  {
   "cell_type": "markdown",
   "metadata": {},
   "source": [
    "### Logistics"
   ]
  },
  {
   "cell_type": "code",
   "execution_count": 1,
   "metadata": {},
   "outputs": [
    {
     "name": "stdout",
     "output_type": "stream",
     "text": [
      "Requirement already satisfied: numpy in /Users/spb/XV_Imaging/Code/env/lib/python3.13/site-packages (from -r ../requirements.txt (line 1)) (2.2.0)\n",
      "Requirement already satisfied: matplotlib in /Users/spb/XV_Imaging/Code/env/lib/python3.13/site-packages (from -r ../requirements.txt (line 2)) (3.10.0)\n",
      "Requirement already satisfied: PyPDF2 in /Users/spb/XV_Imaging/Code/env/lib/python3.13/site-packages (from -r ../requirements.txt (line 3)) (3.0.1)\n",
      "Requirement already satisfied: pandas in /Users/spb/XV_Imaging/Code/env/lib/python3.13/site-packages (from -r ../requirements.txt (line 4)) (2.2.3)\n",
      "Requirement already satisfied: scikit-learn in /Users/spb/XV_Imaging/Code/env/lib/python3.13/site-packages (from -r ../requirements.txt (line 5)) (1.5.2)\n",
      "Requirement already satisfied: scipy in /Users/spb/XV_Imaging/Code/env/lib/python3.13/site-packages (from -r ../requirements.txt (line 6)) (1.14.1)\n",
      "Requirement already satisfied: libpysal in /Users/spb/XV_Imaging/Code/env/lib/python3.13/site-packages (from -r ../requirements.txt (line 7)) (4.12.1)\n",
      "Requirement already satisfied: contourpy>=1.0.1 in /Users/spb/XV_Imaging/Code/env/lib/python3.13/site-packages (from matplotlib->-r ../requirements.txt (line 2)) (1.3.1)\n",
      "Requirement already satisfied: cycler>=0.10 in /Users/spb/XV_Imaging/Code/env/lib/python3.13/site-packages (from matplotlib->-r ../requirements.txt (line 2)) (0.12.1)\n",
      "Requirement already satisfied: fonttools>=4.22.0 in /Users/spb/XV_Imaging/Code/env/lib/python3.13/site-packages (from matplotlib->-r ../requirements.txt (line 2)) (4.55.3)\n",
      "Requirement already satisfied: kiwisolver>=1.3.1 in /Users/spb/XV_Imaging/Code/env/lib/python3.13/site-packages (from matplotlib->-r ../requirements.txt (line 2)) (1.4.7)\n",
      "Requirement already satisfied: packaging>=20.0 in /Users/spb/XV_Imaging/Code/env/lib/python3.13/site-packages (from matplotlib->-r ../requirements.txt (line 2)) (24.2)\n",
      "Requirement already satisfied: pillow>=8 in /Users/spb/XV_Imaging/Code/env/lib/python3.13/site-packages (from matplotlib->-r ../requirements.txt (line 2)) (11.0.0)\n",
      "Requirement already satisfied: pyparsing>=2.3.1 in /Users/spb/XV_Imaging/Code/env/lib/python3.13/site-packages (from matplotlib->-r ../requirements.txt (line 2)) (3.2.0)\n",
      "Requirement already satisfied: python-dateutil>=2.7 in /Users/spb/XV_Imaging/Code/env/lib/python3.13/site-packages (from matplotlib->-r ../requirements.txt (line 2)) (2.9.0.post0)\n",
      "Requirement already satisfied: pytz>=2020.1 in /Users/spb/XV_Imaging/Code/env/lib/python3.13/site-packages (from pandas->-r ../requirements.txt (line 4)) (2024.2)\n",
      "Requirement already satisfied: tzdata>=2022.7 in /Users/spb/XV_Imaging/Code/env/lib/python3.13/site-packages (from pandas->-r ../requirements.txt (line 4)) (2024.2)\n",
      "Requirement already satisfied: joblib>=1.2.0 in /Users/spb/XV_Imaging/Code/env/lib/python3.13/site-packages (from scikit-learn->-r ../requirements.txt (line 5)) (1.4.2)\n",
      "Requirement already satisfied: threadpoolctl>=3.1.0 in /Users/spb/XV_Imaging/Code/env/lib/python3.13/site-packages (from scikit-learn->-r ../requirements.txt (line 5)) (3.5.0)\n",
      "Requirement already satisfied: beautifulsoup4>=4.10 in /Users/spb/XV_Imaging/Code/env/lib/python3.13/site-packages (from libpysal->-r ../requirements.txt (line 7)) (4.12.3)\n",
      "Requirement already satisfied: geopandas>=0.10.0 in /Users/spb/XV_Imaging/Code/env/lib/python3.13/site-packages (from libpysal->-r ../requirements.txt (line 7)) (1.0.1)\n",
      "Requirement already satisfied: platformdirs>=2.0.2 in /Users/spb/XV_Imaging/Code/env/lib/python3.13/site-packages (from libpysal->-r ../requirements.txt (line 7)) (4.3.6)\n",
      "Requirement already satisfied: requests>=2.27 in /Users/spb/XV_Imaging/Code/env/lib/python3.13/site-packages (from libpysal->-r ../requirements.txt (line 7)) (2.32.3)\n",
      "Requirement already satisfied: shapely>=2.0.1 in /Users/spb/XV_Imaging/Code/env/lib/python3.13/site-packages (from libpysal->-r ../requirements.txt (line 7)) (2.0.6)\n",
      "Requirement already satisfied: soupsieve>1.2 in /Users/spb/XV_Imaging/Code/env/lib/python3.13/site-packages (from beautifulsoup4>=4.10->libpysal->-r ../requirements.txt (line 7)) (2.6)\n",
      "Requirement already satisfied: pyogrio>=0.7.2 in /Users/spb/XV_Imaging/Code/env/lib/python3.13/site-packages (from geopandas>=0.10.0->libpysal->-r ../requirements.txt (line 7)) (0.10.0)\n",
      "Requirement already satisfied: pyproj>=3.3.0 in /Users/spb/XV_Imaging/Code/env/lib/python3.13/site-packages (from geopandas>=0.10.0->libpysal->-r ../requirements.txt (line 7)) (3.7.0)\n",
      "Requirement already satisfied: six>=1.5 in /Users/spb/XV_Imaging/Code/env/lib/python3.13/site-packages (from python-dateutil>=2.7->matplotlib->-r ../requirements.txt (line 2)) (1.17.0)\n",
      "Requirement already satisfied: charset-normalizer<4,>=2 in /Users/spb/XV_Imaging/Code/env/lib/python3.13/site-packages (from requests>=2.27->libpysal->-r ../requirements.txt (line 7)) (3.4.1)\n",
      "Requirement already satisfied: idna<4,>=2.5 in /Users/spb/XV_Imaging/Code/env/lib/python3.13/site-packages (from requests>=2.27->libpysal->-r ../requirements.txt (line 7)) (3.10)\n",
      "Requirement already satisfied: urllib3<3,>=1.21.1 in /Users/spb/XV_Imaging/Code/env/lib/python3.13/site-packages (from requests>=2.27->libpysal->-r ../requirements.txt (line 7)) (2.3.0)\n",
      "Requirement already satisfied: certifi>=2017.4.17 in /Users/spb/XV_Imaging/Code/env/lib/python3.13/site-packages (from requests>=2.27->libpysal->-r ../requirements.txt (line 7)) (2024.12.14)\n",
      "\n",
      "\u001b[1m[\u001b[0m\u001b[34;49mnotice\u001b[0m\u001b[1;39;49m]\u001b[0m\u001b[39;49m A new release of pip is available: \u001b[0m\u001b[31;49m24.2\u001b[0m\u001b[39;49m -> \u001b[0m\u001b[32;49m25.0.1\u001b[0m\n",
      "\u001b[1m[\u001b[0m\u001b[34;49mnotice\u001b[0m\u001b[1;39;49m]\u001b[0m\u001b[39;49m To update, run: \u001b[0m\u001b[32;49mpip install --upgrade pip\u001b[0m\n",
      "Note: you may need to restart the kernel to use updated packages.\n",
      "\u001b[H\u001b[2J"
     ]
    }
   ],
   "source": [
    "#install libraries if not already\n",
    "%pip install -r ../requirements.txt\n",
    "%clear"
   ]
  },
  {
   "cell_type": "code",
   "execution_count": 2,
   "metadata": {},
   "outputs": [],
   "source": [
    "# load necessary library\n",
    "import os\n",
    "import pandas as pd\n",
    "import numpy as np\n",
    "from pipeline import ClusterFeatures,LBP_3D,XGBoost,XGBoostP,create_report_summary,NaiveBayesP,NaiveBayes,SVM,SVMP\n",
    "from sklearn.model_selection import train_test_split\n"
   ]
  },
  {
   "cell_type": "code",
   "execution_count": 3,
   "metadata": {},
   "outputs": [],
   "source": [
    "# load dataset\n",
    "csv_dir = '../../Datasets/Rat PA Study/CSV/'\n",
    "csv_files = [file for file in os.listdir(csv_dir) if file.endswith('.csv')]\n",
    "\n",
    "dataframes = []\n",
    "for file in csv_files:\n",
    "    file_path = os.path.join(csv_dir, file)\n",
    "    dataframes.append([pd.read_csv(file_path),file_path])\n",
    "\n",
    "\n",
    "#load report features\n",
    "source = '../../Datasets/Rat PA Study/PDF_reports/'\n",
    "\n",
    "\n",
    "\n",
    "report_summary = create_report_summary(source)\n",
    "\n",
    "\n",
    "for idx,row in enumerate(dataframes):\n",
    "    path=row[1].split('/')[5].split('.')[0]\n",
    "    report_row = report_summary[report_summary['ScanName']==path]\n",
    "    report_row=report_row.drop(columns=['ScanName','DatePrepared','FileName'])\n",
    "    dataframes[idx].append(report_row)\n",
    "\n"
   ]
  },
  {
   "cell_type": "code",
   "execution_count": null,
   "metadata": {},
   "outputs": [
    {
     "name": "stdout",
     "output_type": "stream",
     "text": [
      "[      Specific Ventilation (mL/mL)    x (mm)    y (mm)   z (mm)\n",
      "0                         0.021654 -0.476610 -10.00880 -16.6547\n",
      "1                         0.053881  0.476612 -10.00880 -16.6547\n",
      "2                         0.024212  1.429830 -10.00880 -16.6547\n",
      "3                         0.019765  2.383060 -10.00880 -16.6547\n",
      "4                         0.113660 -0.476610  -9.05562 -16.6547\n",
      "...                            ...       ...       ...      ...\n",
      "8240                      0.253957  4.289500 -15.72820  21.4742\n",
      "8241                      0.135875  6.195950 -17.63460  22.4274\n",
      "8242                      0.175927  3.336280 -16.68140  22.4274\n",
      "8243                      0.222575  4.289500 -16.68140  22.4274\n",
      "8244                      0.247715  5.242720 -16.68140  22.4274\n",
      "\n",
      "[8245 rows x 4 columns], '../../Datasets/Rat Sterile Bead Study/csv/baseline/S187.WT.specificVentilation.csv',     VDP(%)  MSV(mL/mL)  TV(L)  VH(%)  VHSS(%)  VHLS(%)\n",
      "20    13.8       0.182  1.307  45.52    17.72    31.19]\n"
     ]
    },
    {
     "ename": "",
     "evalue": "",
     "output_type": "error",
     "traceback": [
      "\u001b[1;31mnotebook controller is DISPOSED. \n",
      "\u001b[1;31mView Jupyter <a href='command:jupyter.viewOutput'>log</a> for further details."
     ]
    },
    {
     "ename": "",
     "evalue": "",
     "output_type": "error",
     "traceback": [
      "\u001b[1;31mnotebook controller is DISPOSED. \n",
      "\u001b[1;31mView Jupyter <a href='command:jupyter.viewOutput'>log</a> for further details."
     ]
    },
    {
     "ename": "",
     "evalue": "",
     "output_type": "error",
     "traceback": [
      "\u001b[1;31mnotebook controller is DISPOSED. \n",
      "\u001b[1;31mView Jupyter <a href='command:jupyter.viewOutput'>log</a> for further details."
     ]
    }
   ],
   "source": [
    "# load dataset\n",
    "csv_dir = '../../Datasets/Rat Sterile Bead Study/csv/baseline'\n",
    "csv_files = [file for file in os.listdir(csv_dir) if file.endswith('.csv')]\n",
    "\n",
    "dataframes_all = []\n",
    "for file in csv_files:\n",
    "    file_path = os.path.join(csv_dir, file)\n",
    "    dataframes_all.append([pd.read_csv(file_path),file_path])\n",
    "\n",
    "\n",
    "#load report features\n",
    "source = '../../Datasets/Rat Sterile Bead Study/PDF_report/baseline'\n",
    "\n",
    "\n",
    "\n",
    "report_summary = create_report_summary(source)\n",
    "\n",
    "\n",
    "for idx,row in enumerate(dataframes_all):\n",
    "    path=row[1].split('/')[6].split('.')[0]\n",
    "    report_row = report_summary[report_summary['FileName'].str.contains(path)]\n",
    "    report_row=report_row.drop(columns=['ScanName','DatePrepared','FileName'])\n",
    "    dataframes_all[idx].append(report_row)\n",
    "\n"
   ]
  },
  {
   "cell_type": "code",
   "execution_count": 4,
   "metadata": {},
   "outputs": [
    {
     "name": "stdout",
     "output_type": "stream",
     "text": [
      "16 CF rats, 17 KO rats, 19 WT rats \n"
     ]
    }
   ],
   "source": [
    "#split data by genotypes\n",
    "CF=[]\n",
    "CF_report=[]\n",
    "\n",
    "KO=[]\n",
    "KO_report=[]\n",
    "\n",
    "WT=[]\n",
    "WT_report=[]\n",
    "\n",
    "for df,path,report in dataframes:\n",
    "    if 'WT' in path:\n",
    "        WT.append(df)\n",
    "        WT_report.append(report)\n",
    "    if 'KO' in path:\n",
    "        KO.append(df)\n",
    "        KO_report.append(report)\n",
    "    if 'CF' in path:\n",
    "        CF.append(df)\n",
    "        CF_report.append(report)\n",
    "\n",
    "\n",
    "print(f'{len(CF)} CF rats, {len(KO)} KO rats, {len(WT)} WT rats ')"
   ]
  },
  {
   "cell_type": "code",
   "execution_count": 5,
   "metadata": {},
   "outputs": [
    {
     "name": "stdout",
     "output_type": "stream",
     "text": [
      "32 CF rats, 34 KO rats, 38 WT rats \n"
     ]
    }
   ],
   "source": [
    "#split data by genotypes\n",
    "CF_all=CF.copy()\n",
    "CF_report_all=CF_report.copy()\n",
    "\n",
    "KO_all=KO.copy()\n",
    "KO_report_all=KO_report.copy()\n",
    "\n",
    "WT_all=WT.copy()\n",
    "WT_report_all=WT_report.copy()\n",
    "\n",
    "for df,path,report in dataframes:\n",
    "    if 'WT' in path:\n",
    "        WT_all.append(df)\n",
    "        WT_report_all.append(report)\n",
    "    if 'KO' in path:\n",
    "        KO_all.append(df)\n",
    "        KO_report_all.append(report)\n",
    "    if 'CF' in path:\n",
    "        CF_all.append(df)\n",
    "        CF_report_all.append(report)\n",
    "\n",
    "\n",
    "print(f'{len(CF_all)} CF rats, {len(KO_all)} KO rats, {len(WT_all)} WT rats ')"
   ]
  },
  {
   "cell_type": "markdown",
   "metadata": {},
   "source": [
    "# Modelling and Classification"
   ]
  },
  {
   "cell_type": "markdown",
   "metadata": {},
   "source": [
    "### Using LBP"
   ]
  },
  {
   "cell_type": "code",
   "execution_count": 6,
   "metadata": {},
   "outputs": [],
   "source": [
    "data=[]\n",
    "\n",
    "for d in CF:\n",
    "    d.columns=['SV','X','Y','Z']\n",
    "    data.append([d,1])\n",
    "for d in KO:\n",
    "    d.columns=['SV','X','Y','Z']\n",
    "    data.append([d,2])\n",
    "for d in WT:\n",
    "    d.columns=['SV','X','Y','Z']\n",
    "    data.append([d,0])\n",
    "\n",
    "\n",
    "\n",
    "\n",
    "lbp=LBP_3D(data)\n",
    "features=lbp.extract()\n"
   ]
  },
  {
   "cell_type": "code",
   "execution_count": 7,
   "metadata": {},
   "outputs": [],
   "source": [
    "def remove(feat,test,label):\n",
    "    temp=feat[feat['Label']==label]\n",
    "    t=temp.sample(n=1, random_state=np.random.randint(0, 1000))\n",
    "\n",
    "    feat=feat.drop(t.index)\n",
    "    test=pd.concat([test,t],ignore_index=True)\n",
    "\n",
    "test=pd.DataFrame()\n",
    "\n",
    "remove(features,test,0)\n",
    "remove(features,test,1)\n",
    "remove(features,test,2)\n",
    "\n",
    "\n"
   ]
  },
  {
   "cell_type": "code",
   "execution_count": 8,
   "metadata": {},
   "outputs": [],
   "source": [
    "labels=features['Label']\n",
    "features=features.drop(columns=['Label'])\n",
    "features=features.apply(pd.to_numeric, errors='coerce')\n",
    "\n",
    "features.fillna(0,inplace=True)"
   ]
  },
  {
   "cell_type": "code",
   "execution_count": 9,
   "metadata": {},
   "outputs": [],
   "source": [
    "\n",
    "X_train, X_test, y_train, y_test = train_test_split(features.values, labels, test_size=0.2, random_state=42,stratify=labels)\n",
    "\n"
   ]
  },
  {
   "cell_type": "code",
   "execution_count": 10,
   "metadata": {},
   "outputs": [
    {
     "name": "stdout",
     "output_type": "stream",
     "text": [
      "Classification Report: XGBoost\n",
      "              precision    recall  f1-score   support\n",
      "\n",
      "           0       0.00      0.00      0.00         4\n",
      "           1       0.50      1.00      0.67         3\n",
      "           2       0.67      0.50      0.57         4\n",
      "\n",
      "    accuracy                           0.45        11\n",
      "   macro avg       0.39      0.50      0.41        11\n",
      "weighted avg       0.38      0.45      0.39        11\n",
      "\n",
      "True: 0, Pred: 1, Probabilities: [0.06673479 0.5896604  0.34360483]\n",
      "True: 1, Pred: 1, Probabilities: [0.0345239  0.95372194 0.01175415]\n",
      "True: 0, Pred: 1, Probabilities: [0.03536157 0.94718975 0.01744862]\n",
      "True: 1, Pred: 1, Probabilities: [0.19638966 0.79497355 0.0086368 ]\n",
      "True: 0, Pred: 1, Probabilities: [0.31501663 0.6357957  0.04918761]\n",
      "True: 2, Pred: 2, Probabilities: [0.13273998 0.33153754 0.53572243]\n",
      "True: 2, Pred: 2, Probabilities: [0.03721525 0.03317815 0.92960656]\n",
      "True: 1, Pred: 1, Probabilities: [0.24396825 0.6512175  0.10481416]\n",
      "True: 2, Pred: 0, Probabilities: [0.8859345  0.02684391 0.08722164]\n",
      "True: 0, Pred: 2, Probabilities: [0.3807177  0.02613498 0.5931474 ]\n",
      "True: 2, Pred: 0, Probabilities: [0.9514717  0.02988914 0.0186392 ]\n"
     ]
    },
    {
     "data": {
      "image/png": "[encoded data removed]",
      "text/plain": [
       "<Figure size 640x480 with 2 Axes>"
      ]
     },
     "metadata": {},
     "output_type": "display_data"
    }
   ],
   "source": [
    "modelXG=XGBoost(X_train,y_train,X_test,y_test,True)\n",
    "modelXGP=XGBoostP(X_train,y_train,X_test,y_test,True)"
   ]
  },
  {
   "cell_type": "code",
   "execution_count": 11,
   "metadata": {},
   "outputs": [
    {
     "name": "stdout",
     "output_type": "stream",
     "text": [
      "Classification Report: Naive Bayes (GaussianNB)\n",
      "              precision    recall  f1-score   support\n",
      "\n",
      "           0       0.40      0.50      0.44         4\n",
      "           1       0.50      0.67      0.57         3\n",
      "           2       0.50      0.25      0.33         4\n",
      "\n",
      "    accuracy                           0.45        11\n",
      "   macro avg       0.47      0.47      0.45        11\n",
      "weighted avg       0.46      0.45      0.44        11\n",
      "\n",
      "True: 0, Pred: 2, Probabilities: [0.05522359 0.06292742 0.88184899]\n",
      "True: 1, Pred: 1, Probabilities: [5.39711146e-09 9.99999995e-01 1.07547865e-18]\n",
      "True: 0, Pred: 1, Probabilities: [2.52167694e-08 9.99999975e-01 1.22222727e-18]\n",
      "True: 1, Pred: 1, Probabilities: [4.19977809e-05 9.99958002e-01 1.35563983e-16]\n",
      "True: 0, Pred: 0, Probabilities: [9.99539145e-01 4.60854714e-04 7.30339903e-14]\n",
      "True: 2, Pred: 0, Probabilities: [7.18164580e-01 2.81601803e-01 2.33617155e-04]\n",
      "True: 2, Pred: 2, Probabilities: [7.1063944e-11 5.0968738e-15 1.0000000e+00]\n",
      "True: 1, Pred: 0, Probabilities: [0.65875478 0.34009927 0.00114595]\n",
      "True: 2, Pred: 1, Probabilities: [0.45349823 0.54542583 0.00107594]\n",
      "True: 0, Pred: 0, Probabilities: [8.25894114e-01 5.51665237e-05 1.74050720e-01]\n",
      "True: 2, Pred: 0, Probabilities: [9.80304699e-01 1.91394156e-02 5.55885116e-04]\n",
      "Classification Report: Naive Bayes (GaussianNB)\n",
      "              precision    recall  f1-score   support\n",
      "\n",
      "           0       0.40      0.50      0.44         4\n",
      "           1       0.50      0.67      0.57         3\n",
      "           2       0.50      0.25      0.33         4\n",
      "\n",
      "    accuracy                           0.45        11\n",
      "   macro avg       0.47      0.47      0.45        11\n",
      "weighted avg       0.46      0.45      0.44        11\n",
      "\n"
     ]
    },
    {
     "data": {
      "image/png": "[encoded data removed]",
      "text/plain": [
       "<Figure size 640x480 with 2 Axes>"
      ]
     },
     "metadata": {},
     "output_type": "display_data"
    }
   ],
   "source": [
    "model=NaiveBayes(X_train,y_train,X_test,y_test,True)\n",
    "modelP=NaiveBayesP(X_train,y_train,X_test,y_test,True)"
   ]
  },
  {
   "cell_type": "code",
   "execution_count": 12,
   "metadata": {},
   "outputs": [
    {
     "name": "stdout",
     "output_type": "stream",
     "text": [
      "Classification Report: SVC\n",
      "              precision    recall  f1-score   support\n",
      "\n",
      "           0       0.36      1.00      0.53         4\n",
      "           1       0.00      0.00      0.00         3\n",
      "           2       0.00      0.00      0.00         4\n",
      "\n",
      "    accuracy                           0.36        11\n",
      "   macro avg       0.12      0.33      0.18        11\n",
      "weighted avg       0.13      0.36      0.19        11\n",
      "\n",
      "True: 0, Pred: 0, Probabilities: [0.27703423 0.4070078  0.31595796]\n",
      "True: 1, Pred: 0, Probabilities: [0.20462006 0.33179482 0.46358512]\n",
      "True: 0, Pred: 0, Probabilities: [0.21404593 0.35242792 0.43352615]\n",
      "True: 1, Pred: 0, Probabilities: [0.22678053 0.30726669 0.46595278]\n",
      "True: 0, Pred: 0, Probabilities: [0.20083306 0.38179186 0.41737509]\n",
      "True: 2, Pred: 0, Probabilities: [0.21871774 0.44202672 0.33925554]\n",
      "True: 2, Pred: 0, Probabilities: [0.28581739 0.43638077 0.27780185]\n",
      "True: 1, Pred: 0, Probabilities: [0.30131207 0.32285234 0.3758356 ]\n",
      "True: 2, Pred: 0, Probabilities: [0.24054049 0.43547145 0.32398806]\n",
      "True: 0, Pred: 0, Probabilities: [0.2511177  0.47906387 0.26981844]\n",
      "True: 2, Pred: 0, Probabilities: [0.23358188 0.4287702  0.33764792]\n",
      "Classification Report: SVC (probability)\n",
      "              precision    recall  f1-score   support\n",
      "\n",
      "           0       0.36      1.00      0.53         4\n",
      "           1       0.00      0.00      0.00         3\n",
      "           2       0.00      0.00      0.00         4\n",
      "\n",
      "    accuracy                           0.36        11\n",
      "   macro avg       0.12      0.33      0.18        11\n",
      "weighted avg       0.13      0.36      0.19        11\n",
      "\n"
     ]
    },
    {
     "name": "stderr",
     "output_type": "stream",
     "text": [
      "/Users/spb/XV_Imaging/Code/env/lib/python3.13/site-packages/sklearn/metrics/_classification.py:1531: UndefinedMetricWarning: Precision is ill-defined and being set to 0.0 in labels with no predicted samples. Use `zero_division` parameter to control this behavior.\n",
      "  _warn_prf(average, modifier, f\"{metric.capitalize()} is\", len(result))\n",
      "/Users/spb/XV_Imaging/Code/env/lib/python3.13/site-packages/sklearn/metrics/_classification.py:1531: UndefinedMetricWarning: Precision is ill-defined and being set to 0.0 in labels with no predicted samples. Use `zero_division` parameter to control this behavior.\n",
      "  _warn_prf(average, modifier, f\"{metric.capitalize()} is\", len(result))\n",
      "/Users/spb/XV_Imaging/Code/env/lib/python3.13/site-packages/sklearn/metrics/_classification.py:1531: UndefinedMetricWarning: Precision is ill-defined and being set to 0.0 in labels with no predicted samples. Use `zero_division` parameter to control this behavior.\n",
      "  _warn_prf(average, modifier, f\"{metric.capitalize()} is\", len(result))\n",
      "/Users/spb/XV_Imaging/Code/env/lib/python3.13/site-packages/sklearn/metrics/_classification.py:1531: UndefinedMetricWarning: Precision is ill-defined and being set to 0.0 in labels with no predicted samples. Use `zero_division` parameter to control this behavior.\n",
      "  _warn_prf(average, modifier, f\"{metric.capitalize()} is\", len(result))\n",
      "/Users/spb/XV_Imaging/Code/env/lib/python3.13/site-packages/sklearn/metrics/_classification.py:1531: UndefinedMetricWarning: Precision is ill-defined and being set to 0.0 in labels with no predicted samples. Use `zero_division` parameter to control this behavior.\n",
      "  _warn_prf(average, modifier, f\"{metric.capitalize()} is\", len(result))\n",
      "/Users/spb/XV_Imaging/Code/env/lib/python3.13/site-packages/sklearn/metrics/_classification.py:1531: UndefinedMetricWarning: Precision is ill-defined and being set to 0.0 in labels with no predicted samples. Use `zero_division` parameter to control this behavior.\n",
      "  _warn_prf(average, modifier, f\"{metric.capitalize()} is\", len(result))\n"
     ]
    },
    {
     "data": {
      "image/png": "[encoded data removed]",
      "text/plain": [
       "<Figure size 640x480 with 2 Axes>"
      ]
     },
     "metadata": {},
     "output_type": "display_data"
    }
   ],
   "source": [
    "modelSVM=SVM(X_train,y_train,X_test,y_test,True)\n",
    "modelSVWP=SVMP(X_train,y_train,X_test,y_test,True)"
   ]
  },
  {
   "cell_type": "markdown",
   "metadata": {},
   "source": [
    "## Using report features"
   ]
  },
  {
   "cell_type": "code",
   "execution_count": 13,
   "metadata": {},
   "outputs": [],
   "source": [
    "r_feat=pd.DataFrame()\n",
    "\n",
    "for d in CF_report:\n",
    "    d['Label']=1\n",
    "    r_feat=pd.concat([r_feat,d],ignore_index=True)\n",
    "for d in WT_report:\n",
    "    d['Label']=0\n",
    "    r_feat=pd.concat([r_feat,d],ignore_index=True)\n",
    "for d in KO_report:\n",
    "    d['Label']=2\n",
    "    r_feat=pd.concat([r_feat,d],ignore_index=True)\n",
    "\n",
    "\n"
   ]
  },
  {
   "cell_type": "code",
   "execution_count": 14,
   "metadata": {},
   "outputs": [],
   "source": [
    "test_r=pd.DataFrame()\n",
    "remove(r_feat,test,0)\n",
    "\n",
    "remove(r_feat,test,1)\n",
    "remove(r_feat,test,2)\n"
   ]
  },
  {
   "cell_type": "code",
   "execution_count": 15,
   "metadata": {},
   "outputs": [],
   "source": [
    "labels=r_feat['Label']\n",
    "r_feat=r_feat.drop(columns=['Label'])\n",
    "r_feat=r_feat.apply(pd.to_numeric, errors='coerce')\n",
    "\n",
    "r_feat.fillna(0,inplace=True)\n",
    "\n"
   ]
  },
  {
   "cell_type": "code",
   "execution_count": 16,
   "metadata": {},
   "outputs": [],
   "source": [
    "\n",
    "X_train, X_test, y_train, y_test = train_test_split(features.values, labels, test_size=0.2, random_state=42,stratify=labels)\n"
   ]
  },
  {
   "cell_type": "code",
   "execution_count": 17,
   "metadata": {},
   "outputs": [
    {
     "name": "stdout",
     "output_type": "stream",
     "text": [
      "Classification Report: XGBoost\n",
      "              precision    recall  f1-score   support\n",
      "\n",
      "           0       0.75      0.75      0.75         4\n",
      "           1       0.50      0.67      0.57         3\n",
      "           2       0.33      0.25      0.29         4\n",
      "\n",
      "    accuracy                           0.55        11\n",
      "   macro avg       0.53      0.56      0.54        11\n",
      "weighted avg       0.53      0.55      0.53        11\n",
      "\n",
      "True: 0, Pred: 0, Probabilities: [0.5000282  0.39542    0.10455182]\n",
      "True: 1, Pred: 1, Probabilities: [0.00660139 0.7205015  0.2728971 ]\n",
      "True: 0, Pred: 0, Probabilities: [0.6863141  0.1378607  0.17582515]\n",
      "True: 1, Pred: 1, Probabilities: [0.04165023 0.72116405 0.23718572]\n",
      "True: 0, Pred: 0, Probabilities: [0.98191637 0.00815129 0.00993231]\n",
      "True: 2, Pred: 1, Probabilities: [0.1879546  0.56008524 0.25196013]\n",
      "True: 2, Pred: 2, Probabilities: [0.40767372 0.12117702 0.4711492 ]\n",
      "True: 1, Pred: 2, Probabilities: [0.01565685 0.43452355 0.54981965]\n",
      "True: 2, Pred: 0, Probabilities: [0.4987016  0.24213894 0.25915942]\n",
      "True: 0, Pred: 2, Probabilities: [0.04477903 0.2845338  0.6706872 ]\n",
      "True: 2, Pred: 1, Probabilities: [0.13562152 0.6571981  0.20718035]\n"
     ]
    },
    {
     "data": {
      "image/png": "[encoded data removed]",
      "text/plain": [
       "<Figure size 640x480 with 2 Axes>"
      ]
     },
     "metadata": {},
     "output_type": "display_data"
    }
   ],
   "source": [
    "r_modelXG=XGBoost(X_train,y_train,X_test,y_test,True)\n",
    "r_modelXGP=XGBoostP(X_train,y_train,X_test,y_test,True)"
   ]
  },
  {
   "cell_type": "code",
   "execution_count": 18,
   "metadata": {},
   "outputs": [
    {
     "name": "stdout",
     "output_type": "stream",
     "text": [
      "Classification Report: Naive Bayes (GaussianNB)\n",
      "              precision    recall  f1-score   support\n",
      "\n",
      "           0       0.75      0.75      0.75         4\n",
      "           1       0.75      1.00      0.86         3\n",
      "           2       0.67      0.50      0.57         4\n",
      "\n",
      "    accuracy                           0.73        11\n",
      "   macro avg       0.72      0.75      0.73        11\n",
      "weighted avg       0.72      0.73      0.71        11\n",
      "\n",
      "True: 0, Pred: 0, Probabilities: [9.99999953e-01 4.65391360e-08 1.05876472e-14]\n",
      "True: 1, Pred: 1, Probabilities: [2.92102121e-17 9.96025525e-01 3.97447454e-03]\n",
      "True: 0, Pred: 0, Probabilities: [0.57461599 0.41370307 0.01168094]\n",
      "True: 1, Pred: 1, Probabilities: [5.75468700e-12 1.00000000e+00 1.43058243e-14]\n",
      "True: 0, Pred: 0, Probabilities: [1.00000000e+00 5.15531981e-11 4.22292887e-13]\n",
      "True: 2, Pred: 2, Probabilities: [6.79478322e-07 3.68304287e-02 9.63168892e-01]\n",
      "True: 2, Pred: 0, Probabilities: [9.99874747e-01 1.24614322e-04 6.38971194e-07]\n",
      "True: 1, Pred: 1, Probabilities: [1.61994058e-07 9.99999704e-01 1.33948890e-07]\n",
      "True: 2, Pred: 2, Probabilities: [1.26868177e-04 3.08986809e-01 6.90886323e-01]\n",
      "True: 0, Pred: 2, Probabilities: [9.74989738e-08 9.84286640e-02 9.01571238e-01]\n",
      "True: 2, Pred: 1, Probabilities: [0.31117701 0.67351909 0.0153039 ]\n",
      "Classification Report: Naive Bayes (GaussianNB)\n",
      "              precision    recall  f1-score   support\n",
      "\n",
      "           0       0.75      0.75      0.75         4\n",
      "           1       0.75      1.00      0.86         3\n",
      "           2       0.67      0.50      0.57         4\n",
      "\n",
      "    accuracy                           0.73        11\n",
      "   macro avg       0.72      0.75      0.73        11\n",
      "weighted avg       0.72      0.73      0.71        11\n",
      "\n"
     ]
    },
    {
     "data": {
      "image/png": "[encoded data removed]",
      "text/plain": [
       "<Figure size 640x480 with 2 Axes>"
      ]
     },
     "metadata": {},
     "output_type": "display_data"
    }
   ],
   "source": [
    "r_model=NaiveBayes(X_train,y_train,X_test,y_test,True)\n",
    "r_modelP=NaiveBayesP(X_train,y_train,X_test,y_test,True)"
   ]
  },
  {
   "cell_type": "code",
   "execution_count": 19,
   "metadata": {},
   "outputs": [
    {
     "name": "stdout",
     "output_type": "stream",
     "text": [
      "Classification Report: SVC\n",
      "              precision    recall  f1-score   support\n",
      "\n",
      "           0       0.57      1.00      0.73         4\n",
      "           1       0.67      0.67      0.67         3\n",
      "           2       0.00      0.00      0.00         4\n",
      "\n",
      "    accuracy                           0.55        11\n",
      "   macro avg       0.41      0.56      0.46        11\n",
      "weighted avg       0.39      0.55      0.45        11\n",
      "\n",
      "True: 0, Pred: 0, Probabilities: [0.36880524 0.30245188 0.32874288]\n",
      "True: 1, Pred: 2, Probabilities: [0.15878061 0.50225993 0.33895946]\n",
      "True: 0, Pred: 0, Probabilities: [0.3805994  0.31023809 0.30916251]\n",
      "True: 1, Pred: 1, Probabilities: [0.15699617 0.46957605 0.37342778]\n",
      "True: 0, Pred: 0, Probabilities: [0.46593136 0.18596546 0.34810317]\n",
      "True: 2, Pred: 0, Probabilities: [0.24734841 0.43624313 0.31640846]\n",
      "True: 2, Pred: 0, Probabilities: [0.3346537  0.34110912 0.32423718]\n",
      "True: 1, Pred: 1, Probabilities: [0.19787791 0.42933533 0.37278676]\n",
      "True: 2, Pred: 1, Probabilities: [0.19054587 0.46652365 0.34293048]\n",
      "True: 0, Pred: 0, Probabilities: [0.37909001 0.31384037 0.30706962]\n",
      "True: 2, Pred: 0, Probabilities: [0.28198607 0.38958115 0.32843278]\n",
      "Classification Report: SVC (probability)\n",
      "              precision    recall  f1-score   support\n",
      "\n",
      "           0       0.57      1.00      0.73         4\n",
      "           1       0.67      0.67      0.67         3\n",
      "           2       0.00      0.00      0.00         4\n",
      "\n",
      "    accuracy                           0.55        11\n",
      "   macro avg       0.41      0.56      0.46        11\n",
      "weighted avg       0.39      0.55      0.45        11\n",
      "\n"
     ]
    },
    {
     "data": {
      "image/png": "[encoded data removed]",
      "text/plain": [
       "<Figure size 640x480 with 2 Axes>"
      ]
     },
     "metadata": {},
     "output_type": "display_data"
    }
   ],
   "source": [
    "r_modelSVM=SVM(X_train,y_train,X_test,y_test,True)\n",
    "r_modelSVWP=SVMP(X_train,y_train,X_test,y_test,True)"
   ]
  },
  {
   "cell_type": "markdown",
   "metadata": {},
   "source": [
    "# Modelling and Classification using bead control"
   ]
  },
  {
   "cell_type": "markdown",
   "metadata": {},
   "source": [
    "### Using LBP"
   ]
  },
  {
   "cell_type": "code",
   "execution_count": 20,
   "metadata": {},
   "outputs": [],
   "source": [
    "data=[]\n",
    "\n",
    "for d in CF_all:\n",
    "    d.columns=['SV','X','Y','Z']\n",
    "    data.append([d,1])\n",
    "for d in KO_all:\n",
    "    d.columns=['SV','X','Y','Z']\n",
    "    data.append([d,2])\n",
    "for d in WT_all:\n",
    "    d.columns=['SV','X','Y','Z']\n",
    "    data.append([d,0])\n",
    "\n",
    "\n",
    "\n",
    "\n",
    "lbp=LBP_3D(data)\n",
    "features=lbp.extract()\n"
   ]
  },
  {
   "cell_type": "code",
   "execution_count": 21,
   "metadata": {},
   "outputs": [],
   "source": [
    "def remove(feat,test,label):\n",
    "    temp=feat[feat['Label']==label]\n",
    "    t=temp.sample(n=1, random_state=np.random.randint(0, 1000))\n",
    "\n",
    "    feat=feat.drop(t.index)\n",
    "    test=pd.concat([test,t],ignore_index=True)\n",
    "\n",
    "test=pd.DataFrame()\n",
    "\n",
    "remove(features,test,0)\n",
    "remove(features,test,1)\n",
    "remove(features,test,2)\n",
    "\n",
    "\n"
   ]
  },
  {
   "cell_type": "code",
   "execution_count": 22,
   "metadata": {},
   "outputs": [],
   "source": [
    "labels=features['Label']\n",
    "features=features.drop(columns=['Label'])\n",
    "features=features.apply(pd.to_numeric, errors='coerce')\n",
    "\n",
    "features.fillna(0,inplace=True)"
   ]
  },
  {
   "cell_type": "code",
   "execution_count": 23,
   "metadata": {},
   "outputs": [],
   "source": [
    "\n",
    "X_train, X_test, y_train, y_test = train_test_split(features.values, labels, test_size=0.2, random_state=42,stratify=labels)\n",
    "\n"
   ]
  },
  {
   "cell_type": "code",
   "execution_count": 24,
   "metadata": {},
   "outputs": [
    {
     "name": "stdout",
     "output_type": "stream",
     "text": [
      "Classification Report: XGBoost\n",
      "              precision    recall  f1-score   support\n",
      "\n",
      "           0       1.00      1.00      1.00         8\n",
      "           1       1.00      1.00      1.00         6\n",
      "           2       1.00      1.00      1.00         7\n",
      "\n",
      "    accuracy                           1.00        21\n",
      "   macro avg       1.00      1.00      1.00        21\n",
      "weighted avg       1.00      1.00      1.00        21\n",
      "\n",
      "True: 2, Pred: 2, Probabilities: [0.01424288 0.00831624 0.9774409 ]\n",
      "True: 0, Pred: 0, Probabilities: [0.98161584 0.01006192 0.00832226]\n",
      "True: 2, Pred: 2, Probabilities: [0.00598402 0.00862125 0.9853947 ]\n",
      "True: 1, Pred: 1, Probabilities: [0.01191581 0.98432606 0.00375816]\n",
      "True: 1, Pred: 1, Probabilities: [0.01582094 0.98211944 0.00205968]\n",
      "True: 1, Pred: 1, Probabilities: [0.0353551  0.9443112  0.02033377]\n",
      "True: 0, Pred: 0, Probabilities: [0.9755138  0.01404775 0.01043845]\n",
      "True: 2, Pred: 2, Probabilities: [0.0202875  0.02326309 0.9564494 ]\n",
      "True: 0, Pred: 0, Probabilities: [0.9860491  0.00784558 0.00610528]\n",
      "True: 0, Pred: 0, Probabilities: [0.9778751  0.01520022 0.00692459]\n",
      "True: 0, Pred: 0, Probabilities: [0.9561914  0.01167695 0.03213161]\n",
      "True: 0, Pred: 0, Probabilities: [0.9559991  0.02280847 0.02119249]\n",
      "True: 0, Pred: 0, Probabilities: [0.9644447  0.03347548 0.00207975]\n",
      "True: 2, Pred: 2, Probabilities: [0.00856922 0.00886579 0.9825649 ]\n",
      "True: 0, Pred: 0, Probabilities: [0.9875743  0.00493537 0.00749035]\n",
      "True: 1, Pred: 1, Probabilities: [0.01544555 0.9785267  0.00602779]\n",
      "True: 2, Pred: 2, Probabilities: [0.01293062 0.00987646 0.97719294]\n",
      "True: 2, Pred: 2, Probabilities: [0.00763628 0.00339077 0.98897296]\n",
      "True: 1, Pred: 1, Probabilities: [0.0172456  0.97407645 0.00867794]\n",
      "True: 2, Pred: 2, Probabilities: [0.00650646 0.00840386 0.98508966]\n",
      "True: 1, Pred: 1, Probabilities: [0.01511889 0.9449373  0.03994388]\n"
     ]
    },
    {
     "data": {
      "image/png": "[encoded data removed]",
      "text/plain": [
       "<Figure size 640x480 with 2 Axes>"
      ]
     },
     "metadata": {},
     "output_type": "display_data"
    }
   ],
   "source": [
    "modelXG=XGBoost(X_train,y_train,X_test,y_test,True)\n",
    "modelXGP=XGBoostP(X_train,y_train,X_test,y_test,True)"
   ]
  },
  {
   "cell_type": "code",
   "execution_count": 25,
   "metadata": {},
   "outputs": [
    {
     "name": "stdout",
     "output_type": "stream",
     "text": [
      "Classification Report: Naive Bayes (GaussianNB)\n",
      "              precision    recall  f1-score   support\n",
      "\n",
      "           0       0.62      0.62      0.62         8\n",
      "           1       0.80      0.67      0.73         6\n",
      "           2       0.75      0.86      0.80         7\n",
      "\n",
      "    accuracy                           0.71        21\n",
      "   macro avg       0.72      0.72      0.72        21\n",
      "weighted avg       0.72      0.71      0.71        21\n",
      "\n",
      "True: 2, Pred: 2, Probabilities: [0.31020686 0.05534668 0.63444646]\n",
      "True: 0, Pred: 0, Probabilities: [9.99919685e-01 6.69142690e-08 8.02481138e-05]\n",
      "True: 2, Pred: 2, Probabilities: [6.41312313e-09 2.58160754e-12 9.99999994e-01]\n",
      "True: 1, Pred: 1, Probabilities: [6.16407386e-15 1.00000000e+00 1.30138184e-32]\n",
      "True: 1, Pred: 1, Probabilities: [1.04538468e-08 9.99999990e-01 3.56511725e-22]\n",
      "True: 1, Pred: 0, Probabilities: [7.93676415e-01 2.06323299e-01 2.86141869e-07]\n",
      "True: 0, Pred: 0, Probabilities: [0.8661988  0.13274572 0.00105548]\n",
      "True: 2, Pred: 0, Probabilities: [0.95707272 0.02598574 0.01694154]\n",
      "True: 0, Pred: 0, Probabilities: [9.99961274e-01 3.87262658e-05 1.18663767e-10]\n",
      "True: 0, Pred: 0, Probabilities: [8.18905551e-01 1.81077205e-01 1.72437003e-05]\n",
      "True: 0, Pred: 2, Probabilities: [0.16899965 0.00186092 0.82913943]\n",
      "True: 0, Pred: 2, Probabilities: [0.09773743 0.00201839 0.90024419]\n",
      "True: 0, Pred: 1, Probabilities: [7.64229353e-03 9.92357706e-01 3.12646546e-17]\n",
      "True: 2, Pred: 2, Probabilities: [1.71450504e-06 5.50891628e-08 9.99998230e-01]\n",
      "True: 0, Pred: 0, Probabilities: [9.97322805e-01 2.65449144e-03 2.27033470e-05]\n",
      "True: 1, Pred: 1, Probabilities: [1.50742749e-08 9.99999985e-01 2.57361912e-16]\n",
      "True: 2, Pred: 2, Probabilities: [7.85060828e-06 1.36411137e-06 9.99990785e-01]\n",
      "True: 2, Pred: 2, Probabilities: [1.39070053e-03 9.68620855e-10 9.98609299e-01]\n",
      "True: 1, Pred: 1, Probabilities: [3.85507184e-02 9.61194006e-01 2.55275257e-04]\n",
      "True: 2, Pred: 2, Probabilities: [5.27064637e-11 7.72905031e-16 1.00000000e+00]\n",
      "True: 1, Pred: 0, Probabilities: [0.9644276  0.00928685 0.02628555]\n",
      "Classification Report: Naive Bayes (GaussianNB)\n",
      "              precision    recall  f1-score   support\n",
      "\n",
      "           0       0.62      0.62      0.62         8\n",
      "           1       0.80      0.67      0.73         6\n",
      "           2       0.75      0.86      0.80         7\n",
      "\n",
      "    accuracy                           0.71        21\n",
      "   macro avg       0.72      0.72      0.72        21\n",
      "weighted avg       0.72      0.71      0.71        21\n",
      "\n"
     ]
    },
    {
     "data": {
      "image/png": "[encoded data removed]",
      "text/plain": [
       "<Figure size 640x480 with 2 Axes>"
      ]
     },
     "metadata": {},
     "output_type": "display_data"
    }
   ],
   "source": [
    "model=NaiveBayes(X_train,y_train,X_test,y_test,True)\n",
    "modelP=NaiveBayesP(X_train,y_train,X_test,y_test,True)"
   ]
  },
  {
   "cell_type": "code",
   "execution_count": 26,
   "metadata": {},
   "outputs": [
    {
     "name": "stdout",
     "output_type": "stream",
     "text": [
      "Classification Report: SVC\n",
      "              precision    recall  f1-score   support\n",
      "\n",
      "           0       0.50      0.62      0.56         8\n",
      "           1       1.00      0.50      0.67         6\n",
      "           2       0.50      0.57      0.53         7\n",
      "\n",
      "    accuracy                           0.57        21\n",
      "   macro avg       0.67      0.57      0.59        21\n",
      "weighted avg       0.64      0.57      0.58        21\n",
      "\n",
      "True: 2, Pred: 0, Probabilities: [0.34064734 0.18812896 0.47122371]\n",
      "True: 0, Pred: 2, Probabilities: [0.21802969 0.07227957 0.70969074]\n",
      "True: 2, Pred: 0, Probabilities: [0.36556621 0.30085032 0.33358347]\n",
      "True: 1, Pred: 1, Probabilities: [0.55274239 0.41993287 0.02732474]\n",
      "True: 1, Pred: 1, Probabilities: [0.56819457 0.40822676 0.02357867]\n",
      "True: 1, Pred: 0, Probabilities: [0.41193895 0.3780063  0.21005476]\n",
      "True: 0, Pred: 0, Probabilities: [0.40735446 0.40068491 0.19196063]\n",
      "True: 2, Pred: 0, Probabilities: [0.42401829 0.41466151 0.1613202 ]\n",
      "True: 0, Pred: 0, Probabilities: [0.41237954 0.3212998  0.26632066]\n",
      "True: 0, Pred: 0, Probabilities: [0.50629888 0.43198904 0.06171208]\n",
      "True: 0, Pred: 2, Probabilities: [0.29791801 0.16057505 0.54150694]\n",
      "True: 0, Pred: 2, Probabilities: [0.28961997 0.23655282 0.47382721]\n",
      "True: 0, Pred: 0, Probabilities: [0.49229099 0.44994507 0.05776393]\n",
      "True: 2, Pred: 2, Probabilities: [0.10656108 0.03993594 0.85350297]\n",
      "True: 0, Pred: 0, Probabilities: [0.44683124 0.4170467  0.13612206]\n",
      "True: 1, Pred: 1, Probabilities: [0.50517666 0.40334168 0.09148166]\n",
      "True: 2, Pred: 2, Probabilities: [0.28739646 0.10526906 0.60733448]\n",
      "True: 2, Pred: 2, Probabilities: [0.23796398 0.07803675 0.68399927]\n",
      "True: 1, Pred: 0, Probabilities: [0.46325523 0.42928706 0.10745771]\n",
      "True: 2, Pred: 2, Probabilities: [0.24106329 0.13602857 0.62290814]\n",
      "True: 1, Pred: 2, Probabilities: [0.30441669 0.17734953 0.51823378]\n",
      "Classification Report: SVC (probability)\n",
      "              precision    recall  f1-score   support\n",
      "\n",
      "           0       0.50      0.62      0.56         8\n",
      "           1       1.00      0.50      0.67         6\n",
      "           2       0.50      0.57      0.53         7\n",
      "\n",
      "    accuracy                           0.57        21\n",
      "   macro avg       0.67      0.57      0.59        21\n",
      "weighted avg       0.64      0.57      0.58        21\n",
      "\n"
     ]
    },
    {
     "data": {
      "image/png": "[encoded data removed]",
      "text/plain": [
       "<Figure size 640x480 with 2 Axes>"
      ]
     },
     "metadata": {},
     "output_type": "display_data"
    }
   ],
   "source": [
    "modelSVM=SVM(X_train,y_train,X_test,y_test,True)\n",
    "modelSVWP=SVMP(X_train,y_train,X_test,y_test,True)"
   ]
  },
  {
   "cell_type": "markdown",
   "metadata": {},
   "source": [
    "## Using report features"
   ]
  },
  {
   "cell_type": "code",
   "execution_count": 27,
   "metadata": {},
   "outputs": [],
   "source": [
    "r_feat=pd.DataFrame()\n",
    "\n",
    "for d in CF_report_all:\n",
    "    d['Label']=1\n",
    "    r_feat=pd.concat([r_feat,d],ignore_index=True)\n",
    "for d in WT_report_all:\n",
    "    d['Label']=0\n",
    "    r_feat=pd.concat([r_feat,d],ignore_index=True)\n",
    "for d in KO_report_all:\n",
    "    d['Label']=2\n",
    "    r_feat=pd.concat([r_feat,d],ignore_index=True)\n",
    "\n",
    "\n"
   ]
  },
  {
   "cell_type": "code",
   "execution_count": 28,
   "metadata": {},
   "outputs": [],
   "source": [
    "test_r=pd.DataFrame()\n",
    "remove(r_feat,test_r,0)\n",
    "\n",
    "remove(r_feat,test_r,1)\n",
    "remove(r_feat,test_r,2)\n"
   ]
  },
  {
   "cell_type": "code",
   "execution_count": 29,
   "metadata": {},
   "outputs": [],
   "source": [
    "labels=r_feat['Label']\n",
    "r_feat=r_feat.drop(columns=['Label'])\n",
    "r_feat=r_feat.apply(pd.to_numeric, errors='coerce')\n",
    "\n",
    "r_feat.fillna(0,inplace=True)\n",
    "\n"
   ]
  },
  {
   "cell_type": "code",
   "execution_count": 30,
   "metadata": {},
   "outputs": [],
   "source": [
    "\n",
    "X_train, X_test, y_train, y_test = train_test_split(features.values, labels, test_size=0.2, random_state=42,stratify=labels)\n"
   ]
  },
  {
   "cell_type": "code",
   "execution_count": 31,
   "metadata": {},
   "outputs": [
    {
     "name": "stdout",
     "output_type": "stream",
     "text": [
      "Classification Report: XGBoost\n",
      "              precision    recall  f1-score   support\n",
      "\n",
      "           0       0.89      1.00      0.94         8\n",
      "           1       1.00      1.00      1.00         6\n",
      "           2       1.00      0.86      0.92         7\n",
      "\n",
      "    accuracy                           0.95        21\n",
      "   macro avg       0.96      0.95      0.95        21\n",
      "weighted avg       0.96      0.95      0.95        21\n",
      "\n",
      "True: 2, Pred: 2, Probabilities: [0.01022811 0.00914648 0.9806254 ]\n",
      "True: 0, Pred: 0, Probabilities: [0.98137915 0.01564095 0.00297995]\n",
      "True: 2, Pred: 2, Probabilities: [0.00950819 0.01368975 0.97680205]\n",
      "True: 1, Pred: 1, Probabilities: [0.00134874 0.9887982  0.0098531 ]\n",
      "True: 1, Pred: 1, Probabilities: [0.00277522 0.9866753  0.01054945]\n",
      "True: 1, Pred: 1, Probabilities: [0.01470161 0.9692376  0.01606084]\n",
      "True: 0, Pred: 0, Probabilities: [0.9836516  0.00856914 0.00777925]\n",
      "True: 2, Pred: 2, Probabilities: [0.0067239  0.00285948 0.99041665]\n",
      "True: 0, Pred: 0, Probabilities: [0.9803216  0.01140906 0.00826939]\n",
      "True: 0, Pred: 0, Probabilities: [0.67018855 0.27725607 0.05255537]\n",
      "True: 0, Pred: 0, Probabilities: [0.9800314  0.01382626 0.00614236]\n",
      "True: 0, Pred: 0, Probabilities: [0.98623914 0.00959391 0.00416692]\n",
      "True: 0, Pred: 0, Probabilities: [0.67018855 0.27725607 0.05255537]\n",
      "True: 2, Pred: 0, Probabilities: [0.98962325 0.00708617 0.00329054]\n",
      "True: 0, Pred: 0, Probabilities: [0.99383575 0.00382829 0.00233588]\n",
      "True: 1, Pred: 1, Probabilities: [0.00501055 0.9864174  0.008572  ]\n",
      "True: 2, Pred: 2, Probabilities: [0.00312866 0.00642183 0.9904495 ]\n",
      "True: 2, Pred: 2, Probabilities: [0.00338154 0.01186343 0.98475504]\n",
      "True: 1, Pred: 1, Probabilities: [0.00330962 0.9819546  0.01473581]\n",
      "True: 2, Pred: 2, Probabilities: [0.01156152 0.0060175  0.982421  ]\n",
      "True: 1, Pred: 1, Probabilities: [0.02513999 0.960971   0.01388904]\n"
     ]
    },
    {
     "data": {
      "image/png": "[encoded data removed]",
      "text/plain": [
       "<Figure size 640x480 with 2 Axes>"
      ]
     },
     "metadata": {},
     "output_type": "display_data"
    }
   ],
   "source": [
    "r_modelXG=XGBoost(X_train,y_train,X_test,y_test,True)\n",
    "r_modelXGP=XGBoostP(X_train,y_train,X_test,y_test,True)"
   ]
  },
  {
   "cell_type": "code",
   "execution_count": 33,
   "metadata": {},
   "outputs": [
    {
     "name": "stdout",
     "output_type": "stream",
     "text": [
      "Classification Report: Naive Bayes (GaussianNB)\n",
      "              precision    recall  f1-score   support\n",
      "\n",
      "           0       0.50      0.25      0.33         8\n",
      "           1       0.67      0.67      0.67         6\n",
      "           2       0.45      0.71      0.56         7\n",
      "\n",
      "    accuracy                           0.52        21\n",
      "   macro avg       0.54      0.54      0.52        21\n",
      "weighted avg       0.53      0.52      0.50        21\n",
      "\n",
      "True: 2, Pred: 0, Probabilities: [9.87531896e-01 2.09088099e-04 1.22590161e-02]\n",
      "True: 0, Pred: 1, Probabilities: [0.00142095 0.95827346 0.04030559]\n",
      "True: 2, Pred: 2, Probabilities: [0.2042889 0.0099914 0.7857197]\n",
      "True: 1, Pred: 1, Probabilities: [3.10467157e-36 1.00000000e+00 9.53838008e-13]\n",
      "True: 1, Pred: 1, Probabilities: [2.77880608e-19 9.99999995e-01 4.57906754e-09]\n",
      "True: 1, Pred: 1, Probabilities: [3.62267136e-06 7.60627902e-01 2.39368476e-01]\n",
      "True: 0, Pred: 2, Probabilities: [0.00738478 0.02070101 0.97191421]\n",
      "True: 2, Pred: 2, Probabilities: [2.07653740e-02 2.06108918e-06 9.79232565e-01]\n",
      "True: 0, Pred: 1, Probabilities: [0.29253171 0.39873807 0.30873022]\n",
      "True: 0, Pred: 2, Probabilities: [0.29047734 0.30449831 0.40502435]\n",
      "True: 0, Pred: 2, Probabilities: [9.51931401e-05 1.52159948e-02 9.84688812e-01]\n",
      "True: 0, Pred: 0, Probabilities: [1.00000000e+00 6.76116548e-12 4.57233520e-19]\n",
      "True: 0, Pred: 2, Probabilities: [0.29047734 0.30449831 0.40502435]\n",
      "True: 2, Pred: 0, Probabilities: [9.99999617e-01 3.83324596e-07 1.25452915e-15]\n",
      "True: 0, Pred: 0, Probabilities: [9.99994445e-01 5.08182921e-06 4.73115501e-07]\n",
      "True: 1, Pred: 1, Probabilities: [7.21623322e-15 1.00000000e+00 6.53023232e-12]\n",
      "True: 2, Pred: 2, Probabilities: [2.71136543e-14 6.54062015e-07 9.99999346e-01]\n",
      "True: 2, Pred: 2, Probabilities: [1.83609812e-12 6.44853212e-04 9.99355147e-01]\n",
      "True: 1, Pred: 2, Probabilities: [2.58094791e-07 5.06119583e-02 9.49387784e-01]\n",
      "True: 2, Pred: 2, Probabilities: [0.3080945  0.00143296 0.69047254]\n",
      "True: 1, Pred: 2, Probabilities: [0.00326468 0.00706313 0.98967219]\n",
      "Classification Report: Naive Bayes (GaussianNB)\n",
      "              precision    recall  f1-score   support\n",
      "\n",
      "           0       0.50      0.25      0.33         8\n",
      "           1       0.67      0.67      0.67         6\n",
      "           2       0.45      0.71      0.56         7\n",
      "\n",
      "    accuracy                           0.52        21\n",
      "   macro avg       0.54      0.54      0.52        21\n",
      "weighted avg       0.53      0.52      0.50        21\n",
      "\n"
     ]
    },
    {
     "data": {
      "image/png": "[encoded data removed]",
      "text/plain": [
       "<Figure size 640x480 with 2 Axes>"
      ]
     },
     "metadata": {},
     "output_type": "display_data"
    }
   ],
   "source": [
    "r_model=NaiveBayes(X_train,y_train,X_test,y_test,True)\n",
    "r_modelP=NaiveBayesP(X_train,y_train,X_test,y_test,True)"
   ]
  },
  {
   "cell_type": "code",
   "execution_count": 34,
   "metadata": {},
   "outputs": [
    {
     "name": "stdout",
     "output_type": "stream",
     "text": [
      "Classification Report: SVC\n",
      "              precision    recall  f1-score   support\n",
      "\n",
      "           0       0.50      0.75      0.60         8\n",
      "           1       1.00      0.50      0.67         6\n",
      "           2       0.33      0.29      0.31         7\n",
      "\n",
      "    accuracy                           0.52        21\n",
      "   macro avg       0.61      0.51      0.52        21\n",
      "weighted avg       0.59      0.52      0.52        21\n",
      "\n",
      "True: 2, Pred: 0, Probabilities: [0.38252915 0.35114579 0.26632505]\n",
      "True: 0, Pred: 0, Probabilities: [0.71259294 0.16113658 0.12627049]\n",
      "True: 2, Pred: 0, Probabilities: [0.36253853 0.32844121 0.30902026]\n",
      "True: 1, Pred: 1, Probabilities: [0.00488948 0.47653486 0.51857566]\n",
      "True: 1, Pred: 1, Probabilities: [0.01341369 0.43704294 0.54954337]\n",
      "True: 1, Pred: 2, Probabilities: [0.26441272 0.39262771 0.34295957]\n",
      "True: 0, Pred: 0, Probabilities: [0.4643707  0.24645517 0.28917413]\n",
      "True: 2, Pred: 0, Probabilities: [0.86212667 0.04759414 0.09027919]\n",
      "True: 0, Pred: 2, Probabilities: [0.16592475 0.44452073 0.38955451]\n",
      "True: 0, Pred: 0, Probabilities: [0.36403814 0.33681351 0.29914835]\n",
      "True: 0, Pred: 2, Probabilities: [0.29441246 0.36295935 0.3426282 ]\n",
      "True: 0, Pred: 0, Probabilities: [0.76032779 0.14014281 0.0995294 ]\n",
      "True: 0, Pred: 0, Probabilities: [0.36403814 0.33681351 0.29914835]\n",
      "True: 2, Pred: 0, Probabilities: [0.88724088 0.06109971 0.05165941]\n",
      "True: 0, Pred: 0, Probabilities: [0.69313473 0.10805109 0.19881417]\n",
      "True: 1, Pred: 1, Probabilities: [0.06924657 0.40568344 0.52506999]\n",
      "True: 2, Pred: 2, Probabilities: [0.06535513 0.4761698  0.45847507]\n",
      "True: 2, Pred: 2, Probabilities: [0.06531421 0.49388135 0.44080444]\n",
      "True: 1, Pred: 2, Probabilities: [0.06819639 0.4902974  0.44150621]\n",
      "True: 2, Pred: 0, Probabilities: [0.60733707 0.17808852 0.21457441]\n",
      "True: 1, Pred: 0, Probabilities: [0.55725608 0.21099684 0.23174708]\n",
      "Classification Report: SVC (probability)\n",
      "              precision    recall  f1-score   support\n",
      "\n",
      "           0       0.50      0.75      0.60         8\n",
      "           1       1.00      0.50      0.67         6\n",
      "           2       0.33      0.29      0.31         7\n",
      "\n",
      "    accuracy                           0.52        21\n",
      "   macro avg       0.61      0.51      0.52        21\n",
      "weighted avg       0.59      0.52      0.52        21\n",
      "\n"
     ]
    },
    {
     "data": {
      "image/png": "[encoded data removed]",
      "text/plain": [
       "<Figure size 640x480 with 2 Axes>"
      ]
     },
     "metadata": {},
     "output_type": "display_data"
    }
   ],
   "source": [
    "r_modelSVM=SVM(X_train,y_train,X_test,y_test,True)\n",
    "r_modelSVWP=SVMP(X_train,y_train,X_test,y_test,True)"
   ]
  }
 ],
 "metadata": {
  "kernelspec": {
   "display_name": "env",
   "language": "python",
   "name": "python3"
  },
  "language_info": {
   "codemirror_mode": {
    "name": "ipython",
    "version": 3
   },
   "file_extension": ".py",
   "mimetype": "text/x-python",
   "name": "python",
   "nbconvert_exporter": "python",
   "pygments_lexer": "ipython3",
   "version": "3.13.0"
  }
 },
 "nbformat": 4,
 "nbformat_minor": 2
}
