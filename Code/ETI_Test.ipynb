{
 "cells": [
  {
   "cell_type": "code",
   "execution_count": 1,
   "metadata": {},
   "outputs": [],
   "source": [
    "import os\n",
    "import pandas as pd\n",
    "import numpy as np\n",
    "from pipeline import ClusterFeatures,LBP_3D,combine_features\n",
    "\n",
    "from sklearn.model_selection import train_test_split,GridSearchCV\n",
    "from sklearn.metrics import ConfusionMatrixDisplay\n",
    "import xgboost as xgb\n",
    "from sklearn.ensemble import RandomForestClassifier\n",
    "\n",
    "from sklearn.metrics import classification_report,roc_auc_score\n",
    "from sklearn.discriminant_analysis import StandardScaler\n",
    "\n"
   ]
  },
  {
   "cell_type": "code",
   "execution_count": 2,
   "metadata": {},
   "outputs": [],
   "source": [
    "\n",
    "def XGBoost(X_tr, Y_tr, X_te, Y_te,quick=False):\n",
    "    param_grid = {\n",
    "        'n_estimators': [50, 100, 200],\n",
    "        'max_depth': [3, 5, 7, 9],\n",
    "        'learning_rate': [0.01, 0.1, 0.2],\n",
    "        'subsample': [0.6, 0.8, 1.0],\n",
    "        'colsample_bytree': [0.6, 0.8, 1.0],\n",
    "    }\n",
    "\n",
    "    # Create the model\n",
    "    xgb_model = xgb.XGBClassifier(\n",
    "        objective='binary:logistic',\n",
    "        tree_method='hist',\n",
    "        random_state=42\n",
    "    )\n",
    "\n",
    "    if quick:\n",
    "            best_model = xgb_model\n",
    "            best_model.fit(X_tr, Y_tr)\n",
    "\n",
    "            xgb_pred = best_model.predict(X_te)\n",
    "\n",
    "\n",
    "            ConfusionMatrixDisplay.from_estimator(estimator=best_model, X=X_te, y=Y_te)\n",
    "\n",
    "            print(\"Classification Report: XGBoost\",roc_auc_score(Y_te,xgb_pred))\n",
    "            report = classification_report(Y_te, xgb_pred, digits=2)\n",
    "            print(report)\n",
    "            return best_model\n",
    "\n",
    "\n",
    "    grid_search = GridSearchCV(\n",
    "        estimator=xgb_model,\n",
    "        param_grid=param_grid,\n",
    "        scoring='accuracy',  \n",
    "        cv=10,  \n",
    "        verbose=1,\n",
    "        n_jobs=-1  \n",
    "    )\n",
    "\n",
    "  \n",
    "    grid_search.fit(X_tr, Y_tr)\n",
    "\n",
    "   \n",
    "    best_model = grid_search.best_estimator_\n",
    "    best_model.fit(X_tr, Y_tr)\n",
    "\n",
    "    xgb_pred = best_model.predict(X_te)\n",
    "\n",
    "    ConfusionMatrixDisplay.from_estimator(estimator=best_model, X=X_te, y=Y_te)\n",
    "\n",
    "    print(\"Classification Report: XGBoost\",roc_auc_score(Y_te,xgb_pred))\n",
    "    report = classification_report(Y_te, xgb_pred, digits=2)\n",
    "    print(report)\n",
    "    return best_model\n",
    "def RF(X_tr, Y_tr, X_te, Y_te):\n",
    "\n",
    "    param_grid = {\n",
    "        'n_estimators': [int(x) for x in np.linspace(start=10, stop=100, num=10)],  \n",
    "        'max_depth': range(1, 20),  \n",
    "        'criterion': ['gini', 'entropy'] \n",
    "    }\n",
    "\n",
    "\n",
    "    optimal_params = GridSearchCV(\n",
    "        estimator=RandomForestClassifier(random_state=42),\n",
    "        param_grid=param_grid,\n",
    "        cv=10, \n",
    "        scoring='accuracy',\n",
    "        verbose=0,\n",
    "        n_jobs=-1\n",
    "    )\n",
    "\n",
    "\n",
    "    optimal_params.fit(X_tr, Y_tr)\n",
    "    print(\"Best parameters found: \", optimal_params.best_params_)\n",
    "\n",
    "\n",
    "    criterion = optimal_params.best_params_['criterion']\n",
    "    max_depth = optimal_params.best_params_['max_depth']\n",
    "    n_estimators = optimal_params.best_params_['n_estimators']\n",
    "\n",
    "\n",
    "    rf_model = RandomForestClassifier(\n",
    "        n_estimators=n_estimators,\n",
    "        max_depth=max_depth,\n",
    "        criterion=criterion,\n",
    "        random_state=42\n",
    "    )\n",
    "\n",
    "    rf_model.fit(X_tr, Y_tr)\n",
    "\n",
    "\n",
    "    rf_pred = rf_model.predict(X_te)\n",
    "\n",
    "\n",
    "    ConfusionMatrixDisplay.from_estimator(estimator=rf_model, X=X_te, y=Y_te)\n",
    "\n",
    "    print(\"Best Cross-Validation Score:\",optimal_params.best_score_)\n",
    "    print(\"Classification Report: Random Forest\")\n",
    "    print(classification_report(Y_te, rf_pred, digits=2),roc_auc_score(Y_te,rf_pred))\n",
    "    return rf_model\n"
   ]
  },
  {
   "cell_type": "code",
   "execution_count": 3,
   "metadata": {},
   "outputs": [],
   "source": [
    "\n",
    "csv_dir = '../Datasets/ETI Study/CSV/Control'\n",
    "csv_files = [file for file in os.listdir(csv_dir) if file.endswith('.csv')]\n",
    "\n",
    "\n",
    "dataframes = []\n",
    "for file in csv_files:\n",
    "    file_path = os.path.join(csv_dir, file)\n",
    "    dataframes.append([pd.read_csv(file_path),file_path])\n",
    "\n",
    "data=[]\n",
    "for d,p in dataframes:\n",
    "    name=p.split('_XV')[0]+'_XV'\n",
    "    name=name.split('/')[-1]\n",
    "    d.columns=['SV','X','Y','Z']\n",
    "    if 'WT' in p:\n",
    "        \n",
    "        data.append([d,0])\n",
    "    else:\n",
    "        data.append([d,1])\n",
    "\n",
    "\n",
    "lbp=LBP_3D(data)\n",
    "features=lbp.extract()"
   ]
  },
  {
   "cell_type": "code",
   "execution_count": null,
   "metadata": {},
   "outputs": [],
   "source": []
  },
  {
   "cell_type": "code",
   "execution_count": 4,
   "metadata": {},
   "outputs": [],
   "source": [
    "labels=features['Label']\n",
    "features=features.drop(columns=['Label'])\n",
    "features=features.apply(pd.to_numeric, errors='coerce')\n",
    "\n",
    "features.fillna(0,inplace=True)\n"
   ]
  },
  {
   "cell_type": "code",
   "execution_count": 5,
   "metadata": {},
   "outputs": [
    {
     "name": "stdout",
     "output_type": "stream",
     "text": [
      "Classification Report: XGBoost 0.25\n",
      "              precision    recall  f1-score   support\n",
      "\n",
      "           0       0.50      0.50      0.50         2\n",
      "           1       0.00      0.00      0.00         1\n",
      "\n",
      "    accuracy                           0.33         3\n",
      "   macro avg       0.25      0.25      0.25         3\n",
      "weighted avg       0.33      0.33      0.33         3\n",
      "\n"
     ]
    },
    {
     "data": {
      "image/png": "[encoded data removed]",
      "text/plain": [
       "<Figure size 640x480 with 2 Axes>"
      ]
     },
     "metadata": {},
     "output_type": "display_data"
    }
   ],
   "source": [
    "\n",
    "X_train, X_test, y_train, y_test = train_test_split(features.values, labels, test_size=0.2, random_state=42,stratify=labels)\n",
    "modelLBP=XGBoost(X_train,y_train,X_test,y_test,True)"
   ]
  },
  {
   "cell_type": "code",
   "execution_count": 6,
   "metadata": {},
   "outputs": [],
   "source": [
    "\n",
    "csv_dir = '../Datasets/ETI Study/CSV/Trikafta'\n",
    "csv_files = [file for file in os.listdir(csv_dir) if file.endswith('.csv')]\n",
    "\n",
    "\n",
    "dataframes = []\n",
    "for file in csv_files:\n",
    "    file_path = os.path.join(csv_dir, file)\n",
    "    dataframes.append([pd.read_csv(file_path),file_path])\n",
    "\n",
    "data=[]\n",
    "for d,p in dataframes:\n",
    "    name=p.split('_XV')[0]+'_XV'\n",
    "    name=name.split('/')[-1]\n",
    "    d.columns=['SV','X','Y','Z']\n",
    "    if 'CF' in p:\n",
    "        \n",
    "        data.append([d,0])\n",
    "    else:\n",
    "        data.append([d,1])\n",
    "\n",
    "\n",
    "\n",
    "lbp=LBP_3D(data)\n",
    "features=lbp.extract()"
   ]
  },
  {
   "cell_type": "code",
   "execution_count": 7,
   "metadata": {},
   "outputs": [],
   "source": [
    "labels=features['Label']\n",
    "features=features.drop(columns=['Label'])\n",
    "features=features.apply(pd.to_numeric, errors='coerce')\n",
    "\n",
    "features.fillna(0,inplace=True)\n"
   ]
  },
  {
   "cell_type": "code",
   "execution_count": 8,
   "metadata": {},
   "outputs": [
    {
     "data": {
      "text/plain": [
       "array([1, 0, 1, 0, 0, 1, 0, 1, 1])"
      ]
     },
     "execution_count": 8,
     "metadata": {},
     "output_type": "execute_result"
    }
   ],
   "source": [
    "modelLBP.predict(features)"
   ]
  },
  {
   "cell_type": "code",
   "execution_count": 9,
   "metadata": {},
   "outputs": [
    {
     "data": {
      "text/plain": [
       "<sklearn.metrics._plot.confusion_matrix.ConfusionMatrixDisplay at 0x120b702d0>"
      ]
     },
     "execution_count": 9,
     "metadata": {},
     "output_type": "execute_result"
    },
    {
     "data": {
      "image/png": "[encoded data removed]",
      "text/plain": [
       "<Figure size 640x480 with 2 Axes>"
      ]
     },
     "metadata": {},
     "output_type": "display_data"
    }
   ],
   "source": [
    "ConfusionMatrixDisplay.from_estimator(estimator=modelLBP, X=features.values, y=[0]*len(features))"
   ]
  },
  {
   "cell_type": "code",
   "execution_count": 10,
   "metadata": {},
   "outputs": [
    {
     "name": "stderr",
     "output_type": "stream",
     "text": [
      "/Users/spb/XV_Imaging/Code/env/lib/python3.13/site-packages/sklearn/base.py:486: UserWarning: X has feature names, but KMeans was fitted without feature names\n",
      "  warnings.warn(\n",
      "/Users/spb/XV_Imaging/Code/env/lib/python3.13/site-packages/sklearn/base.py:486: UserWarning: X has feature names, but KMeans was fitted without feature names\n",
      "  warnings.warn(\n",
      "/Users/spb/XV_Imaging/Code/env/lib/python3.13/site-packages/sklearn/base.py:486: UserWarning: X has feature names, but KMeans was fitted without feature names\n",
      "  warnings.warn(\n",
      "/Users/spb/XV_Imaging/Code/env/lib/python3.13/site-packages/sklearn/base.py:486: UserWarning: X has feature names, but KMeans was fitted without feature names\n",
      "  warnings.warn(\n",
      "/Users/spb/XV_Imaging/Code/env/lib/python3.13/site-packages/sklearn/base.py:486: UserWarning: X has feature names, but KMeans was fitted without feature names\n",
      "  warnings.warn(\n",
      "/Users/spb/XV_Imaging/Code/env/lib/python3.13/site-packages/sklearn/base.py:486: UserWarning: X has feature names, but KMeans was fitted without feature names\n",
      "  warnings.warn(\n",
      "/Users/spb/XV_Imaging/Code/env/lib/python3.13/site-packages/sklearn/base.py:486: UserWarning: X has feature names, but KMeans was fitted without feature names\n",
      "  warnings.warn(\n",
      "/Users/spb/XV_Imaging/Code/env/lib/python3.13/site-packages/sklearn/base.py:486: UserWarning: X has feature names, but KMeans was fitted without feature names\n",
      "  warnings.warn(\n",
      "/Users/spb/XV_Imaging/Code/env/lib/python3.13/site-packages/sklearn/base.py:486: UserWarning: X has feature names, but KMeans was fitted without feature names\n",
      "  warnings.warn(\n",
      "/Users/spb/XV_Imaging/Code/env/lib/python3.13/site-packages/sklearn/base.py:486: UserWarning: X has feature names, but KMeans was fitted without feature names\n",
      "  warnings.warn(\n",
      "/Users/spb/XV_Imaging/Code/env/lib/python3.13/site-packages/sklearn/base.py:486: UserWarning: X has feature names, but KMeans was fitted without feature names\n",
      "  warnings.warn(\n",
      "/Users/spb/XV_Imaging/Code/env/lib/python3.13/site-packages/sklearn/base.py:486: UserWarning: X has feature names, but KMeans was fitted without feature names\n",
      "  warnings.warn(\n",
      "/Users/spb/XV_Imaging/Code/env/lib/python3.13/site-packages/sklearn/base.py:486: UserWarning: X has feature names, but KMeans was fitted without feature names\n",
      "  warnings.warn(\n"
     ]
    }
   ],
   "source": [
    "\n",
    "csv_dir = '../Datasets/ETI Study/CSV/Control'\n",
    "csv_files = [file for file in os.listdir(csv_dir) if file.endswith('.csv')]\n",
    "\n",
    "\n",
    "dataframes = []\n",
    "for file in csv_files:\n",
    "    file_path = os.path.join(csv_dir, file)\n",
    "    dataframes.append([pd.read_csv(file_path),file_path])\n",
    "\n",
    "data=[]\n",
    "for d,p in dataframes:\n",
    "    name=p.split('_XV')[0]+'_XV'\n",
    "    name=name.split('/')[-1]\n",
    "    d.columns=['Specific Ventilation (mL/mL)','x (mm)','y (mm)','z (mm)']\n",
    "    if 'WT' in p:\n",
    "        \n",
    "        data.append([d,0])\n",
    "    else:\n",
    "        data.append([d,1])\n",
    "\n",
    "\n",
    "\n",
    "c=ClusterFeatures(data)\n",
    "features=c.extract()"
   ]
  },
  {
   "cell_type": "code",
   "execution_count": 11,
   "metadata": {},
   "outputs": [],
   "source": [
    "labels=features['Label']\n",
    "features=features.drop(columns=['Label'])\n",
    "features=features.apply(pd.to_numeric, errors='coerce')\n",
    "\n",
    "features.fillna(0,inplace=True)\n",
    "\n"
   ]
  },
  {
   "cell_type": "code",
   "execution_count": 12,
   "metadata": {},
   "outputs": [
    {
     "name": "stdout",
     "output_type": "stream",
     "text": [
      "Classification Report: XGBoost 0.5\n",
      "              precision    recall  f1-score   support\n",
      "\n",
      "           0       0.67      1.00      0.80         2\n",
      "           1       0.00      0.00      0.00         1\n",
      "\n",
      "    accuracy                           0.67         3\n",
      "   macro avg       0.33      0.50      0.40         3\n",
      "weighted avg       0.44      0.67      0.53         3\n",
      "\n"
     ]
    },
    {
     "name": "stderr",
     "output_type": "stream",
     "text": [
      "/Users/spb/XV_Imaging/Code/env/lib/python3.13/site-packages/sklearn/metrics/_classification.py:1531: UndefinedMetricWarning: Precision is ill-defined and being set to 0.0 in labels with no predicted samples. Use `zero_division` parameter to control this behavior.\n",
      "  _warn_prf(average, modifier, f\"{metric.capitalize()} is\", len(result))\n",
      "/Users/spb/XV_Imaging/Code/env/lib/python3.13/site-packages/sklearn/metrics/_classification.py:1531: UndefinedMetricWarning: Precision is ill-defined and being set to 0.0 in labels with no predicted samples. Use `zero_division` parameter to control this behavior.\n",
      "  _warn_prf(average, modifier, f\"{metric.capitalize()} is\", len(result))\n",
      "/Users/spb/XV_Imaging/Code/env/lib/python3.13/site-packages/sklearn/metrics/_classification.py:1531: UndefinedMetricWarning: Precision is ill-defined and being set to 0.0 in labels with no predicted samples. Use `zero_division` parameter to control this behavior.\n",
      "  _warn_prf(average, modifier, f\"{metric.capitalize()} is\", len(result))\n"
     ]
    },
    {
     "data": {
      "image/png": "[encoded data removed]",
      "text/plain": [
       "<Figure size 640x480 with 2 Axes>"
      ]
     },
     "metadata": {},
     "output_type": "display_data"
    }
   ],
   "source": [
    "X_train, X_test, y_train, y_test = train_test_split(features.values, labels, test_size=0.2, random_state=42,stratify=labels)\n",
    "scaler=StandardScaler()\n",
    "X_train=scaler.fit_transform(X_train)\n",
    "X_test=scaler.transform(X_test)\n",
    "model=XGBoost(X_train,y_train,X_test,y_test,True)"
   ]
  },
  {
   "cell_type": "code",
   "execution_count": 13,
   "metadata": {},
   "outputs": [
    {
     "name": "stderr",
     "output_type": "stream",
     "text": [
      "/Users/spb/XV_Imaging/Code/env/lib/python3.13/site-packages/sklearn/base.py:486: UserWarning: X has feature names, but KMeans was fitted without feature names\n",
      "  warnings.warn(\n",
      "/Users/spb/XV_Imaging/Code/env/lib/python3.13/site-packages/sklearn/base.py:486: UserWarning: X has feature names, but KMeans was fitted without feature names\n",
      "  warnings.warn(\n",
      "/Users/spb/XV_Imaging/Code/env/lib/python3.13/site-packages/sklearn/base.py:486: UserWarning: X has feature names, but KMeans was fitted without feature names\n",
      "  warnings.warn(\n",
      "/Users/spb/XV_Imaging/Code/env/lib/python3.13/site-packages/sklearn/base.py:486: UserWarning: X has feature names, but KMeans was fitted without feature names\n",
      "  warnings.warn(\n",
      "/Users/spb/XV_Imaging/Code/env/lib/python3.13/site-packages/sklearn/base.py:486: UserWarning: X has feature names, but KMeans was fitted without feature names\n",
      "  warnings.warn(\n",
      "/Users/spb/XV_Imaging/Code/env/lib/python3.13/site-packages/sklearn/base.py:486: UserWarning: X has feature names, but KMeans was fitted without feature names\n",
      "  warnings.warn(\n",
      "/Users/spb/XV_Imaging/Code/env/lib/python3.13/site-packages/sklearn/base.py:486: UserWarning: X has feature names, but KMeans was fitted without feature names\n",
      "  warnings.warn(\n",
      "/Users/spb/XV_Imaging/Code/env/lib/python3.13/site-packages/sklearn/base.py:486: UserWarning: X has feature names, but KMeans was fitted without feature names\n",
      "  warnings.warn(\n",
      "/Users/spb/XV_Imaging/Code/env/lib/python3.13/site-packages/sklearn/base.py:486: UserWarning: X has feature names, but KMeans was fitted without feature names\n",
      "  warnings.warn(\n"
     ]
    }
   ],
   "source": [
    "\n",
    "csv_dir = '../Datasets/ETI Study/CSV/Trikafta'\n",
    "csv_files = [file for file in os.listdir(csv_dir) if file.endswith('.csv')]\n",
    "\n",
    "\n",
    "dataframes = []\n",
    "for file in csv_files:\n",
    "    file_path = os.path.join(csv_dir, file)\n",
    "    dataframes.append([pd.read_csv(file_path),file_path])\n",
    "\n",
    "data=[]\n",
    "for d,p in dataframes:\n",
    "    name=p.split('_XV')[0]+'_XV'\n",
    "    name=name.split('/')[-1]\n",
    "    d.columns=['Specific Ventilation (mL/mL)','x (mm)','y (mm)','z (mm)']\n",
    "    if 'CF' in p:\n",
    "        \n",
    "        data.append([d,0])\n",
    "    else:\n",
    "        data.append([d,1])\n",
    "\n",
    "\n",
    "\n",
    "c=ClusterFeatures(data)\n",
    "features=c.extract()\n"
   ]
  },
  {
   "cell_type": "code",
   "execution_count": 14,
   "metadata": {},
   "outputs": [],
   "source": [
    "labels=features['Label']\n",
    "features=features.drop(columns=['Label'])\n",
    "features=features.apply(pd.to_numeric, errors='coerce')\n",
    "\n",
    "features.fillna(0,inplace=True)\n",
    "features=scaler.transform(features)"
   ]
  },
  {
   "cell_type": "code",
   "execution_count": 15,
   "metadata": {},
   "outputs": [
    {
     "data": {
      "text/plain": [
       "array([1, 1, 0, 1, 0, 0, 1, 0, 0])"
      ]
     },
     "execution_count": 15,
     "metadata": {},
     "output_type": "execute_result"
    }
   ],
   "source": [
    "model.predict(features)"
   ]
  },
  {
   "cell_type": "code",
   "execution_count": 16,
   "metadata": {},
   "outputs": [
    {
     "ename": "AttributeError",
     "evalue": "'numpy.ndarray' object has no attribute 'values'",
     "output_type": "error",
     "traceback": [
      "\u001b[0;31m---------------------------------------------------------------------------\u001b[0m",
      "\u001b[0;31mAttributeError\u001b[0m                            Traceback (most recent call last)",
      "Cell \u001b[0;32mIn[16], line 1\u001b[0m\n\u001b[0;32m----> 1\u001b[0m ConfusionMatrixDisplay\u001b[38;5;241m.\u001b[39mfrom_estimator(estimator\u001b[38;5;241m=\u001b[39mmodel, X\u001b[38;5;241m=\u001b[39m\u001b[43mfeatures\u001b[49m\u001b[38;5;241;43m.\u001b[39;49m\u001b[43mvalues\u001b[49m, y\u001b[38;5;241m=\u001b[39m[\u001b[38;5;241m0\u001b[39m]\u001b[38;5;241m*\u001b[39m\u001b[38;5;28mlen\u001b[39m(features))\n",
      "\u001b[0;31mAttributeError\u001b[0m: 'numpy.ndarray' object has no attribute 'values'"
     ]
    }
   ],
   "source": [
    "ConfusionMatrixDisplay.from_estimator(estimator=model, X=features.values, y=[0]*len(features))"
   ]
  }
 ],
 "metadata": {
  "kernelspec": {
   "display_name": "env",
   "language": "python",
   "name": "python3"
  },
  "language_info": {
   "codemirror_mode": {
    "name": "ipython",
    "version": 3
   },
   "file_extension": ".py",
   "mimetype": "text/x-python",
   "name": "python",
   "nbconvert_exporter": "python",
   "pygments_lexer": "ipython3",
   "version": "3.13.0"
  }
 },
 "nbformat": 4,
 "nbformat_minor": 2
}
